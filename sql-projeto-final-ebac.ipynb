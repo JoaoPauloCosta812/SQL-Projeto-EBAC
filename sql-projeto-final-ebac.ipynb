{
 "cells": [
  {
   "cell_type": "markdown",
   "id": "bb21761d",
   "metadata": {
    "papermill": {
     "duration": 0.003116,
     "end_time": "2025-09-09T00:36:56.532444",
     "exception": false,
     "start_time": "2025-09-09T00:36:56.529328",
     "status": "completed"
    },
    "tags": []
   },
   "source": [
    "# Análise de Dados em SQL\n",
    "### Aluno: João Paulo Costa Leite\n",
    "\n",
    "*Modulo 08 do Curso de SQL da EBAC*"
   ]
  },
  {
   "cell_type": "markdown",
   "id": "53b3dc74",
   "metadata": {
    "papermill": {
     "duration": 0.002526,
     "end_time": "2025-09-09T00:36:56.537969",
     "exception": false,
     "start_time": "2025-09-09T00:36:56.535443",
     "status": "completed"
    },
    "tags": []
   },
   "source": [
    "# Descrição do Projeto\n",
    "O projeto consiste em realizar a exploração e analise dos dados fazendo uso de SQL. A base de dados foi disponibilizada por uma instituição financeira e pode ser encontrada aqui: https://github.com/andre-marcos-perez/ebac-course-utils/blob/main/dataset/credito.csv\n",
    "\n",
    "A base de dados do link acima contém mais dados que a seleção utilizada neste projeto, pois neste projeto foi feito o uso do AWS Athena e por isso existem limites computacionais e financeiros na qual a redução de dados para análise para fins de estudo se torna interessante."
   ]
  },
  {
   "cell_type": "markdown",
   "id": "374266f1",
   "metadata": {
    "papermill": {
     "duration": 0.002208,
     "end_time": "2025-09-09T00:36:56.543255",
     "exception": false,
     "start_time": "2025-09-09T00:36:56.541047",
     "status": "completed"
    },
    "tags": []
   },
   "source": [
    "### Os dados:\n",
    "Os dados representam informações de clientes de um banco e contam com as seguintes colunas:\n",
    "\n",
    "\n",
    "* idade = idade do cliente\n",
    "* sexo = sexo do cliente (F ou M)\n",
    "* dependentes = número de dependentes do cliente\n",
    "* escolaridade = nível de escolaridade do clientes\n",
    "* salario_anual = faixa salarial do cliente\n",
    "* tipo_cartao = tipo de cartao do cliente\n",
    "* qtd_produtos = quantidade de produtos comprados nos últimos 12 meses\n",
    "* iteracoes_12m = quantidade de iterações/transacoes nos ultimos 12 meses\n",
    "* meses_inativo_12m = quantidade de meses que o cliente ficou inativo\n",
    "* limite_credito = limite de credito do cliente\n",
    "* valor_transacoes_12m = valor das transações dos ultimos 12 meses\n",
    "* qtd_transacoes_12m = quantidade de transacoes dos ultimos 12 meses\n",
    "\n",
    "A tabela foi criada no AWS Athena junto com o S3 Bucket com uma versão dos dados com dito acima"
   ]
  },
  {
   "cell_type": "markdown",
   "id": "0496c1e6",
   "metadata": {
    "papermill": {
     "duration": 0.00207,
     "end_time": "2025-09-09T00:36:56.547700",
     "exception": false,
     "start_time": "2025-09-09T00:36:56.545630",
     "status": "completed"
    },
    "tags": []
   },
   "source": [
    "# Exploração dos Dados\n",
    "Para começar vamos explorar essa base de dados e entender o que temos em mãos e como podemos trabalh-los"
   ]
  },
  {
   "cell_type": "markdown",
   "id": "d95c35bf",
   "metadata": {
    "papermill": {
     "duration": 0.002755,
     "end_time": "2025-09-09T00:36:56.552746",
     "exception": false,
     "start_time": "2025-09-09T00:36:56.549991",
     "status": "completed"
    },
    "tags": []
   },
   "source": [
    "**Visualização dos dados**\n",
    "\n",
    "> **Query:** SELECT * FROM credito LIMIT 10;\n",
    "\n",
    "![](https://github.com/JoaoPauloCosta812/SQL-Projeto-EBAC/blob/main/Query1.png?raw=true)\n",
    "\n",
    "**Qual a quantidade de informações?**\n",
    "\n",
    "> **Query:** SELECT COUNT(*) FROM credito;\n",
    "> \n",
    "> Resposta: 2564 linhas\n",
    "\n",
    "A partir dessas duas Querys podemos visualizar os nossos dados e o tamanho total da base de dados, estamos trabalhando com 2564 linhas e já podemos ver que temos valores nulos(na) presentes nas nossas colunas."
   ]
  },
  {
   "cell_type": "markdown",
   "id": "298c67f3",
   "metadata": {
    "papermill": {
     "duration": 0.002086,
     "end_time": "2025-09-09T00:36:56.557246",
     "exception": false,
     "start_time": "2025-09-09T00:36:56.555160",
     "status": "completed"
    },
    "tags": []
   },
   "source": [
    "Vamos dar uma olhada nos tipos dessas colunas para começarmos a entender esses dados.\n",
    "\n",
    "**Quais os tipos de cada dado**\n",
    "\n",
    "> **Query:** DESCRIBE credito;\n",
    "\n",
    "![](https://github.com/JoaoPauloCosta812/SQL-Projeto-EBAC/blob/main/Query%202.png?raw=true)\n"
   ]
  },
  {
   "cell_type": "markdown",
   "id": "5d77eb5c",
   "metadata": {
    "papermill": {
     "duration": 0.002034,
     "end_time": "2025-09-09T00:36:56.561605",
     "exception": false,
     "start_time": "2025-09-09T00:36:56.559571",
     "status": "completed"
    },
    "tags": []
   },
   "source": [
    "Muito bem, agora sabemos os tipos de cada coluna, vamos analisar quantos valores nulos(na) nós temos\n",
    "\n",
    "**Contando os valores nulos por coluna**\n",
    "\n",
    ">**Query:**\n",
    ">\n",
    ">SELECT\n",
    ">\n",
    ">COUNT(*) AS total_linhas,\n",
    ">\n",
    ">COUNT_IF(idade IS NULL) AS idade_nulos,\n",
    ">\n",
    ">COUNT_IF(sexo IS NULL OR sexo = 'na') AS sexo_nulos,\n",
    ">\n",
    ">COUNT_IF(dependentes IS NULL) AS dependentes_nulos,\n",
    ">\n",
    ">COUNT_IF(escolaridade IS NULL OR escolaridade = 'na') AS escolaridade_nulos,\n",
    ">\n",
    ">COUNT_IF(estado_civil IS NULL OR estado_civil = 'na') AS estado_civil_nulos,\n",
    ">\n",
    ">COUNT_IF(salario_anual IS NULL OR salario_anual = 'na') AS salario_anual_nulos,\n",
    ">\n",
    ">COUNT_IF(tipo_cartao IS NULL OR tipo_cartao = 'na') AS tipo_cartao_nulos,\n",
    ">\n",
    ">COUNT_IF(qtd_produtos IS NULL) AS qtd_produtos_nulos,\n",
    ">\n",
    ">COUNT_IF(iteracoes_12m IS NULL) AS iteracoes_12m_nulos,\n",
    ">\n",
    ">COUNT_IF(meses_inativo_12m IS NULL) AS meses_inativo_12m_nulos,\n",
    ">\n",
    ">COUNT_IF(limite_credito IS NULL) AS limite_credito_nulos,\n",
    ">\n",
    ">COUNT_IF(valor_transacoes_12m IS NULL) AS valor_transacoes_12m_nulos,\n",
    ">\n",
    ">COUNT_IF(qtd_transacoes_12m IS NULL) AS qtd_transacoes_12m_nulos\n",
    ">\n",
    ">FROM credito;\n",
    "\n",
    "![](https://github.com/JoaoPauloCosta812/SQL-Projeto-EBAC/blob/main/Query3.png?raw=true)"
   ]
  },
  {
   "cell_type": "markdown",
   "id": "57613d17",
   "metadata": {
    "papermill": {
     "duration": 0.002047,
     "end_time": "2025-09-09T00:36:56.565912",
     "exception": false,
     "start_time": "2025-09-09T00:36:56.563865",
     "status": "completed"
    },
    "tags": []
   },
   "source": [
    "A partir dessa Query podemos ver que apenas 3 das 13 colunas da tabela tem dados faltantes, `'escolaridade'`, `'estado_civil'` e `'salario_anual'`, três variaveis categoricas, vamos olha-las mais de perto\n",
    "\n",
    "**Quais os tipos de escolaridade disponíveis na base de dados?**\n",
    "\n",
    "> **Query:** SELECT DISTINCT escolaridade FROM credito\n",
    "\n",
    "![](https://github.com/JoaoPauloCosta812/SQL-Projeto-EBAC/blob/main/Query4.png?raw=true)\n",
    "\n",
    "Podemos ver que os dados trazem varios niveis de escolaridade e podemos ver a presença de dados nulos no meio do resultado, trataremos isso posteriormente\n",
    "\n",
    "**Quais os tipos de estado_civil disponíveis na base de dados?**\n",
    "\n",
    "> **Query:** SELECT DISTINCT estado_civil  FROM credito\n",
    "\n",
    "![](https://github.com/JoaoPauloCosta812/SQL-Projeto-EBAC/blob/main/Query5.png?raw=true)\n",
    "\n",
    "Aqui temos os diferentes tipos de estado civil e também encontramos dados nulos\n",
    "\n",
    "**Quais os tipos de salario_anual disponíveis na base de dados?**\n",
    "\n",
    "> **Query:** SELECT DISTINCT salario_anual  FROM credito\n",
    "\n",
    "![](https://github.com/JoaoPauloCosta812/SQL-Projeto-EBAC/blob/main/Query6.png?raw=true)\n",
    "\n",
    "Os salários nessa base de dados não estão expostas com o valor exato e sim com a faixa salarial de cada cliente. Também contem dados nulos. \n",
    "\n",
    "Vamos aproveitar e olhar a ultima variavel categorica que possuimos na tebela, a variavel `'tipo_cartao'`\n",
    "\n",
    "**Quais os tipos de cartão disponíveis na base de dados?**\n",
    "\n",
    "> **Query:** SELECT DISTINCT tipo_cartao  FROM credito\n",
    "\n",
    "![](https://github.com/JoaoPauloCosta812/SQL-Projeto-EBAC/blob/main/Query7.png?raw=true)\n",
    "\n",
    "Aqui vemos que não há necessidade de tratar valores nulos."
   ]
  },
  {
   "cell_type": "markdown",
   "id": "76dee8f0",
   "metadata": {
    "papermill": {
     "duration": 0.002026,
     "end_time": "2025-09-09T00:36:56.570399",
     "exception": false,
     "start_time": "2025-09-09T00:36:56.568373",
     "status": "completed"
    },
    "tags": []
   },
   "source": [
    "## **Análise de dados**\n",
    "\n",
    "Uma vez que exploramos o dados e buscamos entender quais são as informações que temos no nosso banco de dados, podemos analisar as informações para buscar entender o que está acontecendo no banco de dados. Para isso vamos simular algumas perguntas:\n",
    "\n",
    "**Nesse banco de dados, quantos clientes temos de cada faixa salarial?**\n",
    "\n",
    "> **Query:** SELECT COUNT(*) AS quantidade, salario_anual FROM credito WHERE salario_anual != 'na' GROUP BY salario_anual\n",
    "\n",
    "![](https://github.com/JoaoPauloCosta812/SQL-Projeto-EBAC/blob/main/Query8.png?raw=true)\n",
    "\n",
    "A maioria dos clientes dessa base de dados possui um renda menor que 40K e sabemos com base na exploração anterior que 235 clientes não informaram ou não consta a faixa salarial. \n",
    "De certa forma, pode ser interessante para a empresa focar nesse público de mais baixa renda.\n",
    "\n",
    "**Nesse banco de dados, quantos clientes são homens e quantos são mulheres?**\n",
    "\n",
    "> **Query:** SELECT COUNT(*) AS Quantidade, sexo FROM credito GROUP BY sexo\n",
    "\n",
    "![](https://github.com/JoaoPauloCosta812/SQL-Projeto-EBAC/blob/main/Query9.png?raw=true)\n",
    "\n",
    "![gráfico](https://github.com/JoaoPauloCosta812/SQL-Projeto-EBAC/blob/main/grafico_qtd_por_sexo.jpg?raw=true)\n",
    "\n",
    "A maioria dos clientes desse banco é homem! Do csv extraído dos dados é possível gerar o gráfico em pizza com para melhor a proporção de masculino/feminino\n",
    "\n",
    "**Queremos focar o nosso marketing de maneira adequada para nossos clientes, qual será a idade deles?**\n",
    "\n",
    "> **Query:** SELECT AVG(idade) AS media_idade, min(idade) AS min_idade, max(idade) AS max_idade, sexo FROM credito GROUP BY sexo\n",
    "\n",
    "![](https://github.com/JoaoPauloCosta812/SQL-Projeto-EBAC/blob/main/Query10.png?raw=true)\n",
    "\n",
    "Por meio dessa análise não foi possível extrair nenhuma informação relevante.  A menor idade dos dois sexos é a mesma e a média é muito similar. A unica  diferença é a idade máxima mas fato quase irrelevante por a diferença não é tão gritante.\n",
    "\n",
    "**Qual a maior e menor transação dos clientes?**\n",
    "\n",
    "> **Query:** SELECT min(valor_transacoes_12m) AS transacao_minima, max(valor_transacoes_12m) AS transacao_minima FROM credito\n",
    "\n",
    "![](https://github.com/JoaoPauloCosta812/SQL-Projeto-EBAC/blob/main/Query11.png?raw=true)\n",
    "\n",
    "Nesse banco de dados temos a soma de transações em 12 meses, sendo o menor valor um cliente com total de 510.16 e o maximo um cliente com um total de 5776.58 em transações nos ultimos 12 meses \n",
    "\n",
    "**Quais as características dos clientes que possuem os maiores creditos?**\n",
    "\n",
    "> **Query:**\n",
    "> \n",
    ">SELECT max(limite_credito) AS limite_credito, escolaridade, tipo_cartao, sexo\n",
    ">\n",
    ">FROM credito\n",
    "> \n",
    ">WHERE escolaridade != 'na' AND tipo_cartao != 'na'\n",
    "> \n",
    ">GROUP BY  escolaridade, tipo_cartao, sexo\n",
    "> \n",
    ">ORDER BY limite_credito DESC\n",
    "> \n",
    ">LIMIT 10\n",
    "\n",
    "![](https://github.com/JoaoPauloCosta812/SQL-Projeto-EBAC/blob/main/Query12.png?raw=true)\n",
    "\n",
    "Não parece haver um impacto da escolaridade no limite. O limite mais alto é oferecido para um homem sem educação formal. O cartão também parece não estar relacionado com a escolaridade nem com o limite. Dentre os maiores limites, encontramos clientes com cartão: gold, silver, platinum e blue\n",
    "\n",
    "**Quais as características dos clientes que possuem os menores creditos?**\n",
    "\n",
    ">**Query:**\n",
    ">\n",
    ">SELECT max(limite_credito) AS limite_credito, escolaridade, tipo_cartao, sexo\n",
    ">\n",
    ">FROM credito\n",
    ">\n",
    ">WHERE escolaridade != 'na' AND tipo_cartao != 'na'\n",
    ">\n",
    ">GROUP BY  escolaridade, tipo_cartao, sexo\n",
    ">\n",
    ">GROUP BY limite_credito ASC\n",
    ">\n",
    ">LIMIT 10\n",
    "\n",
    "![](https://github.com/JoaoPauloCosta812/SQL-Projeto-EBAC/blob/main/Query13.png?raw=true)\n",
    "\n",
    "Dessa vez conseguimos perceber que não há clientes com cartão platinum dentre os menores limites. Também foi possível perceber que a maioria dos menores limites são mulheres enquanto nos maiores limites predomina homens. \n",
    "\n",
    "**O salário impacta no limite?**\n",
    ">**Query:**\n",
    ">\n",
    ">SELECT AVG(qtd_produtos) AS qts_produtos, AVG(valor_transacoes_12m) AS media_valor_transacoes, AVG(limite_credito) AS media_limite,  sexo,   salario_anual\n",
    ">\n",
    ">FROM credito\n",
    "> \n",
    ">WHERE salario_anual != 'na'\n",
    ">\n",
    ">GROUP BY sexo, salario_anual\n",
    ">\n",
    ">ORDER BY AVG(valor_transacoes_12m) DESC\n",
    "\n",
    "![](https://github.com/JoaoPauloCosta812/SQL-Projeto-EBAC/blob/main/Query14.png?raw=true)\n",
    "\n",
    "Podemos ver que sim! As pessoas que tem menor faixa salarial também apresentam menor limite de credito!\n"
   ]
  },
  {
   "cell_type": "markdown",
   "id": "ce3e0617",
   "metadata": {
    "papermill": {
     "duration": 0.001984,
     "end_time": "2025-09-09T00:36:56.574741",
     "exception": false,
     "start_time": "2025-09-09T00:36:56.572757",
     "status": "completed"
    },
    "tags": []
   },
   "source": [
    "# Conclusão\n",
    "\n",
    "Essas foram **algumas** análises extraídas da base de dados de crédito.  \n",
    "\n",
    "Alguns insights interessantes:\n",
    "\n",
    "- A maior parte dos clientes possui renda até 40K \n",
    "- A maior parte dos clientes é masculino!\n",
    "- A escolaridade não parece influenciar no limite nem no tipo do cartão\n",
    "- Os clientes com maiores limites são em sua maioria homens \n",
    "- Os clientes com menores limites são em sua maioria mulheres\n",
    "- Dentre os menores limites não há presença de cartão platinum\n",
    "- A faixa salarial impacta diretamente no limite de crédito\n",
    "- Nao existem clientes com salário anual acima de 60K do sexo feminino\n",
    "\n",
    "A partir desses insights podemos melhorar a tomada de decisões da empresa, mas podemos continuar a analisar e estudar mais os dados e entender cada vez melhor as situações que estão acontecendo ou que podem vir a acontecer com os clientes e a empresa, sempre haverá espaço para a analise de dados!"
   ]
  }
 ],
 "metadata": {
  "kaggle": {
   "accelerator": "none",
   "dataSources": [],
   "dockerImageVersionId": 31089,
   "isGpuEnabled": false,
   "isInternetEnabled": true,
   "language": "python",
   "sourceType": "notebook"
  },
  "kernelspec": {
   "display_name": "Python 3",
   "language": "python",
   "name": "python3"
  },
  "language_info": {
   "codemirror_mode": {
    "name": "ipython",
    "version": 3
   },
   "file_extension": ".py",
   "mimetype": "text/x-python",
   "name": "python",
   "nbconvert_exporter": "python",
   "pygments_lexer": "ipython3",
   "version": "3.11.13"
  },
  "papermill": {
   "default_parameters": {},
   "duration": 6.699359,
   "end_time": "2025-09-09T00:36:56.997131",
   "environment_variables": {},
   "exception": null,
   "input_path": "__notebook__.ipynb",
   "output_path": "__notebook__.ipynb",
   "parameters": {},
   "start_time": "2025-09-09T00:36:50.297772",
   "version": "2.6.0"
  }
 },
 "nbformat": 4,
 "nbformat_minor": 5
}
